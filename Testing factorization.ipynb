{
 "cells": [
  {
   "cell_type": "code",
   "execution_count": null,
   "metadata": {
    "ExecuteTime": {
     "end_time": "2022-02-18T06:25:07.908209Z",
     "start_time": "2022-02-18T06:25:07.905216Z"
    }
   },
   "outputs": [],
   "source": [
    "# Python classics\n",
    "import numpy as np\n",
    "import tensorly as tl"
   ]
  },
  {
   "cell_type": "markdown",
   "metadata": {},
   "source": [
    "# NMF"
   ]
  },
  {
   "cell_type": "code",
   "execution_count": null,
   "metadata": {
    "ExecuteTime": {
     "end_time": "2022-02-18T06:25:08.884031Z",
     "start_time": "2022-02-18T06:25:08.823972Z"
    }
   },
   "outputs": [],
   "source": [
    "# Optimization\n",
    "import nn_fac.nmf as nmf"
   ]
  },
  {
   "cell_type": "markdown",
   "metadata": {},
   "source": [
    "## HALS"
   ]
  },
  {
   "cell_type": "code",
   "execution_count": null,
   "metadata": {
    "ExecuteTime": {
     "end_time": "2021-09-29T13:08:52.296752Z",
     "start_time": "2021-09-29T13:08:51.888334Z"
    },
    "scrolled": true
   },
   "outputs": [],
   "source": [
    "rank = 2\n",
    "U_lines = 500\n",
    "V_col = 250\n",
    "\n",
    "# Normalize columnwise ? easier to recompute probably\n",
    "U_0 = np.random.rand(U_lines, rank)\n",
    "V_0 = np.random.rand(rank, V_col)\n",
    "M = U_0@V_0 + 1e-2 * np.random.rand(U_lines, V_col)\n",
    "U, V, errors, toc = nmf.nmf(M, rank, init = \"random\", n_iter_max = 1000, tol = 1e-8,update_rule = \"hals\", \n",
    "           sparsity_coefficients = [None, None], fixed_modes = [], normalize = [False, False],\n",
    "           verbose=True, return_costs = True)"
   ]
  },
  {
   "cell_type": "code",
   "execution_count": null,
   "metadata": {
    "ExecuteTime": {
     "end_time": "2021-09-29T13:08:52.311712Z",
     "start_time": "2021-09-29T13:08:52.299750Z"
    }
   },
   "outputs": [],
   "source": [
    "errors[-1], len(errors)"
   ]
  },
  {
   "cell_type": "markdown",
   "metadata": {},
   "source": [
    "## MU with Beta-divergence\n",
    "### Beta = 2 (Frobenius norm)"
   ]
  },
  {
   "cell_type": "code",
   "execution_count": null,
   "metadata": {
    "ExecuteTime": {
     "end_time": "2021-09-29T13:08:53.710997Z",
     "start_time": "2021-09-29T13:08:52.314704Z"
    }
   },
   "outputs": [],
   "source": [
    "rank = 2\n",
    "U_lines = 500\n",
    "V_col = 250\n",
    "\n",
    "U_0 = np.random.rand(U_lines, rank)\n",
    "V_0 = np.random.rand(rank, V_col)\n",
    "M = U_0@V_0 + 1e-2 * np.random.rand(U_lines, V_col)\n",
    "U, V, errors, toc = nmf.nmf(M, rank, init = \"random\", n_iter_max = 1000, tol = 1e-8,update_rule = \"mu\",beta = 2,\n",
    "           sparsity_coefficients = [None, None], fixed_modes = [], normalize = [False, False],\n",
    "           verbose=True, return_costs = True)"
   ]
  },
  {
   "cell_type": "code",
   "execution_count": null,
   "metadata": {
    "ExecuteTime": {
     "end_time": "2021-09-29T13:08:53.722555Z",
     "start_time": "2021-09-29T13:08:53.714043Z"
    }
   },
   "outputs": [],
   "source": [
    "errors[-1], len(errors)"
   ]
  },
  {
   "cell_type": "markdown",
   "metadata": {},
   "source": [
    "### Beta = 1 (Kullback-Leibler Divergence)"
   ]
  },
  {
   "cell_type": "code",
   "execution_count": null,
   "metadata": {
    "ExecuteTime": {
     "end_time": "2022-02-18T06:25:14.838480Z",
     "start_time": "2022-02-18T06:25:13.719760Z"
    },
    "scrolled": false
   },
   "outputs": [],
   "source": [
    "rank = 2\n",
    "U_lines = 500\n",
    "V_col = 250\n",
    "\n",
    "U_0 = np.random.rand(U_lines, rank)\n",
    "V_0 = np.random.rand(rank, V_col)\n",
    "M = U_0@V_0 + 1e-2 * np.random.rand(U_lines, V_col)\n",
    "U, V, errors, toc = nmf.nmf(M, rank, init = \"random\", n_iter_max = 1000, tol = 1e-8,update_rule = \"mu\",beta = 1, \n",
    "           sparsity_coefficients = [None, None], fixed_modes = [], normalize = [False, False],\n",
    "           verbose=True, return_costs = True)"
   ]
  },
  {
   "cell_type": "code",
   "execution_count": null,
   "metadata": {
    "ExecuteTime": {
     "end_time": "2021-09-29T13:08:55.613774Z",
     "start_time": "2021-09-29T13:08:55.603801Z"
    }
   },
   "outputs": [],
   "source": [
    "errors[-1], len(errors)"
   ]
  },
  {
   "cell_type": "markdown",
   "metadata": {},
   "source": [
    "### Beta = 0 (Itakura-Saito Divergence)"
   ]
  },
  {
   "cell_type": "code",
   "execution_count": null,
   "metadata": {
    "ExecuteTime": {
     "end_time": "2021-09-29T13:09:15.173399Z",
     "start_time": "2021-09-29T13:08:55.616766Z"
    }
   },
   "outputs": [],
   "source": [
    "rank = 2\n",
    "U_lines = 500\n",
    "V_col = 250\n",
    "\n",
    "U_0 = np.random.rand(U_lines, rank)\n",
    "V_0 = np.random.rand(rank, V_col)\n",
    "M = U_0@V_0 + 1e-2 * np.random.rand(U_lines, V_col)\n",
    "U, V, errors, toc = nmf.nmf(M, rank, init = \"random\", n_iter_max = 1000, tol = 1e-8,update_rule = \"mu\",beta = 0, \n",
    "           sparsity_coefficients = [None, None], fixed_modes = [], normalize = [False, False],\n",
    "           verbose=True, return_costs = True)"
   ]
  },
  {
   "cell_type": "code",
   "execution_count": null,
   "metadata": {
    "ExecuteTime": {
     "end_time": "2021-09-29T13:09:15.184369Z",
     "start_time": "2021-09-29T13:09:15.176391Z"
    }
   },
   "outputs": [],
   "source": [
    "errors[-1], len(errors)"
   ]
  },
  {
   "cell_type": "markdown",
   "metadata": {},
   "source": [
    "# NTF (PARAFAC)"
   ]
  },
  {
   "cell_type": "code",
   "execution_count": null,
   "metadata": {
    "ExecuteTime": {
     "end_time": "2021-09-29T13:09:15.194343Z",
     "start_time": "2021-09-29T13:09:15.188358Z"
    }
   },
   "outputs": [],
   "source": [
    "import nn_fac.ntf as ntf"
   ]
  },
  {
   "cell_type": "code",
   "execution_count": null,
   "metadata": {
    "ExecuteTime": {
     "end_time": "2021-09-29T13:09:22.658236Z",
     "start_time": "2021-09-29T13:09:15.197335Z"
    },
    "scrolled": true
   },
   "outputs": [],
   "source": [
    "rank = 2\n",
    "U_lines = 500\n",
    "V_lines = 250\n",
    "W_lines = 50\n",
    "\n",
    "T = tl.random.random_cp((U_lines, V_lines, W_lines), rank, full=True)\n",
    "T = tl.abs(T)\n",
    "T = T + 1e-2 * np.random.rand(U_lines, V_lines, W_lines)\n",
    "\n",
    "factors, errors, toc = ntf.ntf(T, rank, init = \"random\", n_iter_max = 1000, tol = 1e-8, update_rule = \"hals\",\n",
    "           sparsity_coefficients = [None, None, None], fixed_modes = [], normalize = [False, False, False],\n",
    "           verbose = True, return_costs = True)"
   ]
  },
  {
   "cell_type": "code",
   "execution_count": null,
   "metadata": {
    "ExecuteTime": {
     "end_time": "2021-09-29T13:09:22.668099Z",
     "start_time": "2021-09-29T13:09:22.661215Z"
    }
   },
   "outputs": [],
   "source": [
    "errors[-1], len(errors)"
   ]
  },
  {
   "cell_type": "markdown",
   "metadata": {},
   "source": [
    "## MU\n",
    "### Beta = 2"
   ]
  },
  {
   "cell_type": "code",
   "execution_count": null,
   "metadata": {
    "ExecuteTime": {
     "end_time": "2021-09-29T13:12:57.417741Z",
     "start_time": "2021-09-29T13:09:22.671091Z"
    }
   },
   "outputs": [],
   "source": [
    "rank = 2\n",
    "U_lines = 500\n",
    "V_lines = 250\n",
    "W_lines = 50\n",
    "\n",
    "T = tl.random.random_cp((U_lines, V_lines, W_lines), rank, full=True)\n",
    "T = tl.abs(T)\n",
    "T = T + 1e-2 * np.random.rand(U_lines, V_lines, W_lines)\n",
    "\n",
    "factors, errors, toc = ntf.ntf(T, rank, init = \"random\", n_iter_max = 1000, tol = 1e-8, update_rule = \"mu\",beta = 2,\n",
    "           sparsity_coefficients = [None, None, None], fixed_modes = [], normalize = [False, False, False],\n",
    "           verbose = True, return_costs = True)"
   ]
  },
  {
   "cell_type": "code",
   "execution_count": null,
   "metadata": {
    "ExecuteTime": {
     "end_time": "2021-09-29T13:12:57.426308Z",
     "start_time": "2021-09-29T13:12:57.419062Z"
    }
   },
   "outputs": [],
   "source": [
    "errors[-1], len(errors)"
   ]
  },
  {
   "cell_type": "markdown",
   "metadata": {},
   "source": [
    "### Beta = 1"
   ]
  },
  {
   "cell_type": "code",
   "execution_count": null,
   "metadata": {
    "ExecuteTime": {
     "end_time": "2021-09-29T13:23:47.842684Z",
     "start_time": "2021-09-29T13:20:40.422258Z"
    }
   },
   "outputs": [],
   "source": [
    "rank = 2\n",
    "U_lines = 500\n",
    "V_lines = 250\n",
    "W_lines = 50\n",
    "\n",
    "T = tl.random.random_cp((U_lines, V_lines, W_lines), rank, full=True)\n",
    "T = tl.abs(T)\n",
    "T = T + 1e-2 * np.random.rand(U_lines, V_lines, W_lines)\n",
    "\n",
    "factors, errors, toc = ntf.ntf(T, rank, init = \"random\", n_iter_max = 1000, tol = 1e-8, update_rule = \"mu\",beta = 1,\n",
    "           sparsity_coefficients = [None, None, None], fixed_modes = [], normalize = [False, False, False],\n",
    "           verbose = True, return_costs = True)"
   ]
  },
  {
   "cell_type": "code",
   "execution_count": null,
   "metadata": {
    "ExecuteTime": {
     "end_time": "2021-09-29T13:25:16.290170Z",
     "start_time": "2021-09-29T13:25:16.283185Z"
    }
   },
   "outputs": [],
   "source": [
    "errors[-1], len(errors)"
   ]
  },
  {
   "cell_type": "markdown",
   "metadata": {},
   "source": [
    "### Beta = 0"
   ]
  },
  {
   "cell_type": "code",
   "execution_count": null,
   "metadata": {
    "ExecuteTime": {
     "end_time": "2021-09-29T13:31:14.021070Z",
     "start_time": "2021-09-29T13:25:17.882387Z"
    }
   },
   "outputs": [],
   "source": [
    "rank = 2\n",
    "U_lines = 500\n",
    "V_lines = 250\n",
    "W_lines = 50\n",
    "\n",
    "T = tl.random.random_cp((U_lines, V_lines, W_lines), rank, full=True)\n",
    "T = tl.abs(T)\n",
    "T = T + 1e-2 * np.random.rand(U_lines, V_lines, W_lines)\n",
    "\n",
    "factors, errors, toc = ntf.ntf(T, rank, init = \"random\", n_iter_max = 1000, tol = 1e-8, update_rule = \"mu\",beta = 0,\n",
    "           sparsity_coefficients = [None, None, None], fixed_modes = [], normalize = [False, False, False],\n",
    "           verbose = True, return_costs = True)"
   ]
  },
  {
   "cell_type": "code",
   "execution_count": null,
   "metadata": {
    "ExecuteTime": {
     "end_time": "2021-09-29T13:34:13.469332Z",
     "start_time": "2021-09-29T13:34:13.463545Z"
    }
   },
   "outputs": [],
   "source": [
    "errors[-1], len(errors)"
   ]
  },
  {
   "cell_type": "markdown",
   "metadata": {},
   "source": [
    "# NTD"
   ]
  },
  {
   "cell_type": "code",
   "execution_count": null,
   "metadata": {},
   "outputs": [],
   "source": [
    "import nn_fac.ntd as ntd"
   ]
  },
  {
   "cell_type": "code",
   "execution_count": null,
   "metadata": {},
   "outputs": [],
   "source": [
    "rank = 2\n",
    "U_lines = 500\n",
    "V_lines = 250\n",
    "W_lines = 50\n",
    "\n",
    "T = tl.random.random_tucker((U_lines, V_lines, W_lines), (4,3,2), full=True)#, nonegative=True)\n",
    "T = tl.abs(T)\n",
    "T = T + 1e-2 * np.random.rand(U_lines, V_lines, W_lines)\n",
    "\n",
    "core, factors, cost_fct_vals, toc = ntd.ntd(T, [4,3,2], init = \"random\", n_iter_max = 1000, tol = 1e-8,\n",
    "           sparsity_coefficients = [None, None, None, None], fixed_modes = [], normalize = [False, False, False, False],\n",
    "           verbose = True, return_costs = True)"
   ]
  },
  {
   "cell_type": "markdown",
   "metadata": {},
   "source": [
    "## MU\n",
    "### Beta = 2"
   ]
  },
  {
   "cell_type": "code",
   "execution_count": null,
   "metadata": {},
   "outputs": [],
   "source": [
    "rank = 2\n",
    "U_lines = 500\n",
    "V_lines = 250\n",
    "W_lines = 50\n",
    "\n",
    "T = tl.random.random_tucker((U_lines, V_lines, W_lines), (4,3,2), full=True)#, nonegative=True)\n",
    "T = tl.abs(T)\n",
    "T = T + 1e-2 * np.random.rand(U_lines, V_lines, W_lines)\n",
    "\n",
    "core, factors, cost_fct_vals, toc = ntd.ntd_mu(T, [4,3,2], init = \"random\", n_iter_max = 100, tol = 1e-8, beta = 2,\n",
    "           sparsity_coefficients = [None, None, None, None], fixed_modes = [], normalize = [False, False, False, False],\n",
    "           verbose = True, return_costs = True)"
   ]
  },
  {
   "cell_type": "markdown",
   "metadata": {},
   "source": [
    "### Beta = 1"
   ]
  },
  {
   "cell_type": "code",
   "execution_count": null,
   "metadata": {},
   "outputs": [],
   "source": [
    "rank = 2\n",
    "U_lines = 500\n",
    "V_lines = 250\n",
    "W_lines = 50\n",
    "\n",
    "T = tl.random.random_tucker((U_lines, V_lines, W_lines), (4,3,2), full=True)#, nonegative=True)\n",
    "T = tl.abs(T)\n",
    "T = T + 1e-2 * np.random.rand(U_lines, V_lines, W_lines)\n",
    "\n",
    "core, factors, cost_fct_vals, toc = ntd.ntd_mu(T, [4,3,2], init = \"random\", n_iter_max = 100, tol = 1e-8, beta = 1,\n",
    "           sparsity_coefficients = [None, None, None, None], fixed_modes = [], normalize = [False, False, False, False],\n",
    "           verbose = True, return_costs = True)"
   ]
  },
  {
   "cell_type": "markdown",
   "metadata": {},
   "source": [
    "# PARAFAC2"
   ]
  },
  {
   "cell_type": "code",
   "execution_count": null,
   "metadata": {
    "ExecuteTime": {
     "end_time": "2021-09-29T13:34:35.068159Z",
     "start_time": "2021-09-29T13:34:35.064168Z"
    }
   },
   "outputs": [],
   "source": [
    "import nn_fac.parafac2 as parafac2"
   ]
  },
  {
   "cell_type": "code",
   "execution_count": null,
   "metadata": {
    "ExecuteTime": {
     "end_time": "2021-09-29T13:34:41.366380Z",
     "start_time": "2021-09-29T13:34:40.179824Z"
    }
   },
   "outputs": [],
   "source": [
    "rank = 3\n",
    "W_lines = 5\n",
    "H_lines = 5\n",
    "Q_lines = 5\n",
    "\n",
    "H_0 = np.random.rand(rank, H_lines)\n",
    "Q_0 = np.random.rand(Q_lines, rank)\n",
    "\n",
    "W_1 = np.random.rand(W_lines, rank)\n",
    "\n",
    "tensor_slices = []\n",
    "W_list = []\n",
    "D_list = []\n",
    "\n",
    "for i in range(Q_lines):\n",
    "    diag_Q = np.diag(Q_0[i,:])\n",
    "    W_k = np.roll(W_1, i, axis=0)\n",
    "    tensor_slices.append(W_k@diag_Q@H_0)\n",
    "    W_list.append(W_k)\n",
    "    D_list.append(diag_Q)\n",
    "\n",
    "W_list, H, D_list, errors, toc = parafac2.parafac_2(tensor_slices, rank, init_with_P = True, init = \"random\",\n",
    "                                                    tol_mu = 1e6, step_mu = 1.02, n_iter_max=1000, tol=1e-8,\n",
    "                                                    sparsity_coefficient = None, fixed_modes = [], normalize = [False, False, False, False, False],\n",
    "                                                    verbose=False, return_costs=True)\n",
    "\n",
    "errors[-1], len(errors)"
   ]
  }
 ],
 "metadata": {
  "kernelspec": {
   "display_name": "update_numpy_vtwo",
   "language": "python",
   "name": "python3"
  },
  "language_info": {
   "codemirror_mode": {
    "name": "ipython",
    "version": 3
   },
   "file_extension": ".py",
   "mimetype": "text/x-python",
   "name": "python",
   "nbconvert_exporter": "python",
   "pygments_lexer": "ipython3",
   "version": "3.12.3"
  },
  "toc": {
   "base_numbering": 1,
   "nav_menu": {},
   "number_sections": true,
   "sideBar": true,
   "skip_h1_title": false,
   "title_cell": "Table of Contents",
   "title_sidebar": "Contents",
   "toc_cell": false,
   "toc_position": {},
   "toc_section_display": true,
   "toc_window_display": false
  },
  "varInspector": {
   "cols": {
    "lenName": 16,
    "lenType": 16,
    "lenVar": 40
   },
   "kernels_config": {
    "python": {
     "delete_cmd_postfix": "",
     "delete_cmd_prefix": "del ",
     "library": "var_list.py",
     "varRefreshCmd": "print(var_dic_list())"
    },
    "r": {
     "delete_cmd_postfix": ") ",
     "delete_cmd_prefix": "rm(",
     "library": "var_list.r",
     "varRefreshCmd": "cat(var_dic_list()) "
    }
   },
   "types_to_exclude": [
    "module",
    "function",
    "builtin_function_or_method",
    "instance",
    "_Feature"
   ],
   "window_display": false
  }
 },
 "nbformat": 4,
 "nbformat_minor": 2
}
